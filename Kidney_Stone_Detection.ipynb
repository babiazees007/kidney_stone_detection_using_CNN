{
 "cells": [
  {
   "cell_type": "code",
   "execution_count": 1,
   "id": "f6cafef1",
   "metadata": {},
   "outputs": [],
   "source": [
    "# Importing Libraries\n",
    "import os\n",
    "import numpy as np\n",
    "import matplotlib.pyplot as plt\n",
    "import keras\n",
    "from keras.models import Sequential\n",
    "from keras.layers import Dense, Conv2D, MaxPooling2D, Dropout, Flatten, Activation\n",
    "from keras.preprocessing.image import ImageDataGenerator"
   ]
  },
  {
   "cell_type": "code",
   "execution_count": 8,
   "id": "4b03554a",
   "metadata": {},
   "outputs": [],
   "source": [
    "# Setting the Path\n",
    "path = 'CT_images'"
   ]
  },
  {
   "cell_type": "code",
   "execution_count": 9,
   "id": "843005e7",
   "metadata": {},
   "outputs": [],
   "source": [
    "# Loading the images\n",
    "train_data_dir = os.path.join(path, 'Train')\n",
    "test_data_dir = os.path.join(path, 'Test')"
   ]
  },
  {
   "cell_type": "code",
   "execution_count": 10,
   "id": "b1828c21",
   "metadata": {},
   "outputs": [],
   "source": [
    "# Image Preprocessing\n",
    "train_datagen = ImageDataGenerator(rescale=1./255)\n",
    "test_datagen = ImageDataGenerator(rescale=1./255)"
   ]
  },
  {
   "cell_type": "code",
   "execution_count": 11,
   "id": "4b0c3ad3",
   "metadata": {},
   "outputs": [
    {
     "name": "stdout",
     "output_type": "stream",
     "text": [
      "Found 3000 images belonging to 2 classes.\n",
      "Found 900 images belonging to 2 classes.\n"
     ]
    }
   ],
   "source": [
    "# Training the Model\n",
    "train_generator = train_datagen.flow_from_directory(\n",
    "    train_data_dir,\n",
    "    target_size=(150,150),\n",
    "    batch_size=32,\n",
    "    class_mode='binary')\n",
    "\n",
    "test_generator = test_datagen.flow_from_directory(\n",
    "    test_data_dir,\n",
    "    target_size=(150,150),\n",
    "    batch_size=32,\n",
    "    class_mode='binary',\n",
    "    shuffle=False\n",
    "    )"
   ]
  },
  {
   "cell_type": "code",
   "execution_count": 12,
   "id": "0fb3babe",
   "metadata": {},
   "outputs": [],
   "source": [
    "model = Sequential()\n",
    "\n",
    "#Adding convolutional layers\n",
    "model.add(Conv2D(32, (3, 3), input_shape=(150, 150, 3)))\n",
    "model.add(Activation('relu'))\n",
    "model.add(MaxPooling2D(pool_size=(2, 2)))\n",
    "\n",
    "#Adding a second convolutional layer\n",
    "model.add(Conv2D(32, (3, 3)))\n",
    "model.add(Activation('relu'))\n",
    "model.add(MaxPooling2D(pool_size=(2, 2)))\n",
    "\n",
    "\n",
    "model.add(Flatten())  # this converts our feature maps to 1D feature vectors\n",
    "model.add(Dense(64))\n",
    "model.add(Activation('relu'))\n",
    "model.add(Dropout(0.5))\n",
    "model.add(Dense(1))\n",
    "model.add(Activation('sigmoid'))"
   ]
  },
  {
   "cell_type": "code",
   "execution_count": 13,
   "id": "9b4334bf",
   "metadata": {},
   "outputs": [],
   "source": [
    "# Compiling the model\n",
    "model.compile(loss='binary_crossentropy',\n",
    "              optimizer='adam',\n",
    "              metrics=['accuracy'])"
   ]
  },
  {
   "cell_type": "code",
   "execution_count": 201,
   "id": "3116fed5",
   "metadata": {},
   "outputs": [
    {
     "name": "stdout",
     "output_type": "stream",
     "text": [
      "Epoch 1/46\n",
      "32/32 [==============================] - 25s 783ms/step - loss: 0.0209 - accuracy: 0.9951\n",
      "Epoch 2/46\n",
      "32/32 [==============================] - 26s 792ms/step - loss: 0.0114 - accuracy: 0.9980\n",
      "Epoch 3/46\n",
      "32/32 [==============================] - 24s 748ms/step - loss: 0.0092 - accuracy: 0.9971\n",
      "Epoch 4/46\n",
      "32/32 [==============================] - 24s 748ms/step - loss: 0.0079 - accuracy: 0.9990\n",
      "Epoch 5/46\n",
      "32/32 [==============================] - 24s 735ms/step - loss: 0.0106 - accuracy: 0.9971\n",
      "Epoch 6/46\n",
      "32/32 [==============================] - 24s 740ms/step - loss: 0.0100 - accuracy: 0.9971\n",
      "Epoch 7/46\n",
      "32/32 [==============================] - 23s 726ms/step - loss: 0.0047 - accuracy: 1.0000\n",
      "Epoch 8/46\n",
      "32/32 [==============================] - 24s 736ms/step - loss: 0.0068 - accuracy: 0.9970\n",
      "Epoch 9/46\n",
      "32/32 [==============================] - 24s 737ms/step - loss: 0.0040 - accuracy: 1.0000\n",
      "Epoch 10/46\n",
      "32/32 [==============================] - 24s 732ms/step - loss: 0.0046 - accuracy: 0.9990\n",
      "Epoch 11/46\n",
      "32/32 [==============================] - 23s 721ms/step - loss: 0.0066 - accuracy: 0.9970\n",
      "Epoch 12/46\n",
      "32/32 [==============================] - 24s 732ms/step - loss: 0.0050 - accuracy: 0.9990\n",
      "Epoch 13/46\n",
      "32/32 [==============================] - 24s 735ms/step - loss: 0.0024 - accuracy: 0.9990\n",
      "Epoch 14/46\n",
      "32/32 [==============================] - 25s 757ms/step - loss: 0.0071 - accuracy: 0.9971\n",
      "Epoch 15/46\n",
      "32/32 [==============================] - 25s 781ms/step - loss: 0.0022 - accuracy: 1.0000\n",
      "Epoch 16/46\n",
      "32/32 [==============================] - 24s 732ms/step - loss: 0.0028 - accuracy: 1.0000\n",
      "Epoch 17/46\n",
      "32/32 [==============================] - 24s 756ms/step - loss: 0.0025 - accuracy: 0.9990\n",
      "Epoch 18/46\n",
      "32/32 [==============================] - 24s 735ms/step - loss: 0.0027 - accuracy: 1.0000\n",
      "Epoch 19/46\n",
      "32/32 [==============================] - 24s 732ms/step - loss: 0.0040 - accuracy: 0.9990\n",
      "Epoch 20/46\n",
      "32/32 [==============================] - 24s 748ms/step - loss: 0.0024 - accuracy: 0.9990\n",
      "Epoch 21/46\n",
      "32/32 [==============================] - 24s 728ms/step - loss: 3.9692e-04 - accuracy: 1.0000\n",
      "Epoch 22/46\n",
      "32/32 [==============================] - 24s 729ms/step - loss: 0.0060 - accuracy: 0.9970\n",
      "Epoch 23/46\n",
      "32/32 [==============================] - 24s 741ms/step - loss: 0.0047 - accuracy: 0.9990\n",
      "Epoch 24/46\n",
      "32/32 [==============================] - 24s 746ms/step - loss: 0.0199 - accuracy: 0.9961\n",
      "Epoch 25/46\n",
      "32/32 [==============================] - 24s 751ms/step - loss: 0.0088 - accuracy: 0.9961\n",
      "Epoch 26/46\n",
      "32/32 [==============================] - 24s 755ms/step - loss: 0.0079 - accuracy: 0.9980\n",
      "Epoch 27/46\n",
      "32/32 [==============================] - 24s 740ms/step - loss: 0.0097 - accuracy: 0.9951\n",
      "Epoch 28/46\n",
      "32/32 [==============================] - 24s 726ms/step - loss: 0.0021 - accuracy: 1.0000\n",
      "Epoch 29/46\n",
      "32/32 [==============================] - 24s 741ms/step - loss: 0.0033 - accuracy: 0.9990\n",
      "Epoch 30/46\n",
      "32/32 [==============================] - 24s 747ms/step - loss: 0.0020 - accuracy: 1.0000\n",
      "Epoch 31/46\n",
      "32/32 [==============================] - 24s 738ms/step - loss: 9.0645e-04 - accuracy: 1.0000\n",
      "Epoch 32/46\n",
      "32/32 [==============================] - 24s 738ms/step - loss: 0.0018 - accuracy: 1.0000\n",
      "Epoch 33/46\n",
      "32/32 [==============================] - 24s 736ms/step - loss: 3.2507e-04 - accuracy: 1.0000\n",
      "Epoch 34/46\n",
      "32/32 [==============================] - 24s 741ms/step - loss: 0.0029 - accuracy: 0.9990\n",
      "Epoch 35/46\n",
      "32/32 [==============================] - 24s 742ms/step - loss: 0.0040 - accuracy: 0.9980\n",
      "Epoch 36/46\n",
      "32/32 [==============================] - 24s 742ms/step - loss: 0.0037 - accuracy: 0.9980\n",
      "Epoch 37/46\n",
      "32/32 [==============================] - 23s 724ms/step - loss: 0.0019 - accuracy: 0.9990\n",
      "Epoch 38/46\n",
      "32/32 [==============================] - 24s 739ms/step - loss: 0.0030 - accuracy: 1.0000\n",
      "Epoch 39/46\n",
      "32/32 [==============================] - 24s 754ms/step - loss: 3.7699e-04 - accuracy: 1.0000\n",
      "Epoch 40/46\n",
      "32/32 [==============================] - 24s 736ms/step - loss: 0.0010 - accuracy: 1.0000\n",
      "Epoch 41/46\n",
      "32/32 [==============================] - 24s 732ms/step - loss: 0.0011 - accuracy: 1.0000\n",
      "Epoch 42/46\n",
      "32/32 [==============================] - 24s 744ms/step - loss: 0.0011 - accuracy: 0.9990\n",
      "Epoch 43/46\n",
      "32/32 [==============================] - 25s 771ms/step - loss: 0.0023 - accuracy: 0.9990\n",
      "Epoch 44/46\n",
      "32/32 [==============================] - 23s 726ms/step - loss: 0.0126 - accuracy: 0.9951\n",
      "Epoch 45/46\n",
      "32/32 [==============================] - 24s 735ms/step - loss: 0.0044 - accuracy: 0.9990\n",
      "Epoch 46/46\n",
      "32/32 [==============================] - 24s 727ms/step - loss: 0.0022 - accuracy: 0.9990\n"
     ]
    },
    {
     "data": {
      "text/plain": [
       "<keras.callbacks.History at 0x1d69742b580>"
      ]
     },
     "execution_count": 201,
     "metadata": {},
     "output_type": "execute_result"
    }
   ],
   "source": [
    "# Training the Model\n",
    "model.fit(\n",
    "    train_generator,\n",
    "    steps_per_epoch=32,\n",
    "    epochs=46,\n",
    "    validation_data=test_generator,\n",
    "    validation_steps=32)"
   ]
  },
  {
   "cell_type": "code",
   "execution_count": 9,
   "id": "21414f5b",
   "metadata": {},
   "outputs": [],
   "source": [
    "# Saving the Model\n",
    "model.save('kidney_stone_detection_model.h5')"
   ]
  },
  {
   "cell_type": "code",
   "execution_count": 8,
   "id": "0e2314ee",
   "metadata": {},
   "outputs": [
    {
     "name": "stdout",
     "output_type": "stream",
     "text": [
      "Button is clicked\n"
     ]
    }
   ],
   "source": [
    "# Creating the GUI\n",
    "from tkinter import *\n",
    "from PIL import Image, ImageTk\n",
    "import customtkinter\n",
    "import tkinter\n",
    "import tkinter as tk\n",
    "from tkinter import filedialog\n",
    "from tkinter.filedialog import askopenfilename\n",
    "from tkinter import messagebox\n",
    "import keras.utils as image\n",
    "import numpy as np\n",
    "import os\n",
    "\n",
    "customtkinter.set_appearance_mode(\"System\")\n",
    "root = customtkinter.CTk()\n",
    "\n",
    "#window size\n",
    "root.rowconfigure(0,weight=1)    \n",
    "root.columnconfigure(0,weight=1)\n",
    "\n",
    "root.geometry('420x380')\n",
    "root.title('Kidney Stone Detection')\n",
    "\n",
    "# Function to Select Image\n",
    "def browse_btn():\n",
    "    global image_name\n",
    "    \n",
    "    label_cnn.configure(text=\"\")\n",
    "    label.configure(text=\"\")\n",
    "    \n",
    "    image_name = askopenfilename(title='Select Image')\n",
    "    img = Image.open(image_name)\n",
    "    img = img.resize((200, 200), Image.ANTIALIAS)\n",
    "    img = ImageTk.PhotoImage(img)\n",
    "    panel = tk.Label(root, image=img)\n",
    "    panel.image = img\n",
    "    panel.grid(row=0,column=1,sticky='nw',padx=20,pady=28)\n",
    "\n",
    "# Function to Predict CNN\n",
    "def predict_btn_cnn():\n",
    "    global label_prediction\n",
    "    global image_name\n",
    "    test_img = image.load_img(image_name, target_size=(150, 150))\n",
    "    test_img = image.img_to_array(test_img)\n",
    "    test_img = np.expand_dims(test_img, axis=0)\n",
    "    result = model.predict(test_img)\n",
    "    if result[0][0] == 1:\n",
    "        label_cnn.configure(text=\"Kidney Stone Detected\")\n",
    "    elif result[0][0] == 0:\n",
    "        label_cnn.configure(text=\"No Kidney Stone Detected\")\n",
    "        \n",
    "#Function for Predict SVM        \n",
    "def predict_btn_svm():\n",
    "    global label_prediction\n",
    "    global image_name\n",
    "    test_img = cv2.imread(image_name)\n",
    "    #test_img = image.load_img(image_name, target_size=(150, 150))\n",
    "    #test_img = image.img_to_array(test_img)\n",
    "    feature_list_of_img = extract_features([test_img])\n",
    "    result = svm_load.predict(feature_list_of_img)    \n",
    "    #Displaying the output\n",
    "    if result[0] == 'Stone':\n",
    "        label.configure(text = \"Kidney Stone Detected\")\n",
    "    elif result[0] == 'Normal':\n",
    "        label.configure(text = \"No Kidney Stone Detected\")\n",
    "\n",
    "# Browse Button\n",
    "browsebtn = customtkinter.CTkButton(master=root, text=\"Browse Image\", command=browse_btn)\n",
    "browsebtn.grid(row=0, column=0,sticky='nw',padx=20,pady=20)\n",
    "\n",
    "\n",
    "# Predict Butoon CNN\n",
    "predictbtn = customtkinter.CTkButton(master=root, text=\"Predict CNN\", command=predict_btn_cnn)\n",
    "predictbtn.grid(row=1, column=0,sticky='nw',padx=20,pady=20)\n",
    "\n",
    "#Label Result CNN\n",
    "label_cnn = customtkinter.CTkLabel(root, text=\"\")\n",
    "label_cnn.grid(row=1,column=1,sticky='nw',padx=20,pady=20)\n",
    "\n",
    "#Label Result SVM\n",
    "label = customtkinter.CTkLabel(root, text=\"\")\n",
    "label.grid(row=2,column=1,sticky='nw',padx=20,pady=20)\n",
    "# Predict Butoon SVM\n",
    "predictbtnsvm = customtkinter.CTkButton(master=root, text=\"Predict SVM\", command=predict_btn_svm)\n",
    "predictbtnsvm.grid(row=2, column=0,sticky='nw',padx=20,pady=20)\n",
    "\n",
    "# Running the GUI\n",
    "root.mainloop()"
   ]
  },
  {
   "cell_type": "code",
   "execution_count": 2,
   "id": "93b3abd7",
   "metadata": {},
   "outputs": [],
   "source": [
    "from keras.models import load_model\n",
    "model = load_model('kidney_stone_detection_model.h5')"
   ]
  },
  {
   "cell_type": "code",
   "execution_count": 3,
   "id": "2ff385ec",
   "metadata": {},
   "outputs": [
    {
     "name": "stdout",
     "output_type": "stream",
     "text": [
      "Model: \"sequential_33\"\n",
      "_________________________________________________________________\n",
      " Layer (type)                Output Shape              Param #   \n",
      "=================================================================\n",
      " conv2d_64 (Conv2D)          (None, 148, 148, 32)      896       \n",
      "                                                                 \n",
      " activation_32 (Activation)  (None, 148, 148, 32)      0         \n",
      "                                                                 \n",
      " max_pooling2d_64 (MaxPoolin  (None, 74, 74, 32)       0         \n",
      " g2D)                                                            \n",
      "                                                                 \n",
      " conv2d_65 (Conv2D)          (None, 72, 72, 32)        9248      \n",
      "                                                                 \n",
      " activation_33 (Activation)  (None, 72, 72, 32)        0         \n",
      "                                                                 \n",
      " max_pooling2d_65 (MaxPoolin  (None, 36, 36, 32)       0         \n",
      " g2D)                                                            \n",
      "                                                                 \n",
      " flatten_32 (Flatten)        (None, 41472)             0         \n",
      "                                                                 \n",
      " dense_64 (Dense)            (None, 64)                2654272   \n",
      "                                                                 \n",
      " activation_34 (Activation)  (None, 64)                0         \n",
      "                                                                 \n",
      " dropout_78 (Dropout)        (None, 64)                0         \n",
      "                                                                 \n",
      " dense_65 (Dense)            (None, 1)                 65        \n",
      "                                                                 \n",
      " activation_35 (Activation)  (None, 1)                 0         \n",
      "                                                                 \n",
      "=================================================================\n",
      "Total params: 2,664,481\n",
      "Trainable params: 2,664,481\n",
      "Non-trainable params: 0\n",
      "_________________________________________________________________\n"
     ]
    }
   ],
   "source": [
    "model.summary()"
   ]
  },
  {
   "cell_type": "code",
   "execution_count": 14,
   "id": "79c71cef",
   "metadata": {},
   "outputs": [
    {
     "name": "stdout",
     "output_type": "stream",
     "text": [
      "1/1 [==============================] - 1s 841ms/step - loss: 6.4202e-06 - accuracy: 1.0000\n"
     ]
    },
    {
     "data": {
      "text/plain": [
       "[6.420249064831296e-06, 1.0]"
      ]
     },
     "execution_count": 14,
     "metadata": {},
     "output_type": "execute_result"
    }
   ],
   "source": [
    "model.evaluate(test_generator,steps=1)"
   ]
  },
  {
   "cell_type": "markdown",
   "id": "93fe5cc5",
   "metadata": {},
   "source": [
    "# SVM"
   ]
  },
  {
   "cell_type": "code",
   "execution_count": 4,
   "id": "45ae3d70",
   "metadata": {},
   "outputs": [],
   "source": [
    "#Importing the required Modules\n",
    "import cv2 \n",
    "import numpy as np \n",
    "from skimage.feature import hog \n",
    "from sklearn.svm import SVC\n",
    "from sklearn.metrics import accuracy_score \n",
    "import matplotlib.pyplot as plt \n",
    "from sklearn.model_selection import train_test_split \n",
    "from sklearn.metrics import confusion_matrix\n",
    "import os"
   ]
  },
  {
   "cell_type": "code",
   "execution_count": 11,
   "id": "761971dc",
   "metadata": {},
   "outputs": [],
   "source": [
    "#Defining a function to read images from the train and test folders\n",
    "def read_images(path):\n",
    "    images_list = []\n",
    "    for filename in os.listdir(path):\n",
    "        img = cv2.imread(os.path.join(path,filename))\n",
    "        if img is not None:\n",
    "            images_list.append(img)\n",
    "    return images_list"
   ]
  },
  {
   "cell_type": "code",
   "execution_count": 12,
   "id": "118411cf",
   "metadata": {},
   "outputs": [],
   "source": [
    "#Reading train images from the normal and stone folders\n",
    "train_normal = read_images('CT_images/Train/Normal')\n",
    "train_stone = read_images('CT_images/Train/Stone')"
   ]
  },
  {
   "cell_type": "code",
   "execution_count": 18,
   "id": "aa41bcd3",
   "metadata": {},
   "outputs": [],
   "source": [
    "#Creating a list of labels for training \n",
    "labels = ['Normal' for item in train_normal] + ['Stone' for item in train_stone]"
   ]
  },
  {
   "cell_type": "code",
   "execution_count": 5,
   "id": "6abe13d9",
   "metadata": {},
   "outputs": [],
   "source": [
    "#Defining a function for HOG feature extraction\n",
    "def extract_features(images):\n",
    "    feature_list = []\n",
    "    for img in images:\n",
    "        fd, hog_image = hog(img, orientations=8, pixels_per_cell=(16, 16), \n",
    "                            cells_per_block=(1, 1), visualize=True, channel_axis=2)\n",
    "        # Resize the HOG features to a fixed size\n",
    "        fd = np.resize(fd, (2400, 1))\n",
    "        # Flatten the array to 2 dimensions\n",
    "        fd = fd.flatten()\n",
    "        feature_list.append(fd)\n",
    "    return feature_list"
   ]
  },
  {
   "cell_type": "code",
   "execution_count": 20,
   "id": "f54dfc42",
   "metadata": {},
   "outputs": [],
   "source": [
    "#Extracting the HOG features from both normal and stone images\n",
    "feature_list_normal = extract_features(train_normal)\n",
    "feature_list_stone = extract_features(train_stone)"
   ]
  },
  {
   "cell_type": "code",
   "execution_count": 21,
   "id": "b2c27a8a",
   "metadata": {},
   "outputs": [
    {
     "name": "stdout",
     "output_type": "stream",
     "text": [
      "2000\n",
      "1000\n"
     ]
    }
   ],
   "source": [
    "print(len(feature_list_normal))\n",
    "print(len(feature_list_stone))"
   ]
  },
  {
   "cell_type": "code",
   "execution_count": 22,
   "id": "8b2b190c",
   "metadata": {},
   "outputs": [],
   "source": [
    "#Combining the features for both classes\n",
    "features = feature_list_normal + feature_list_stone"
   ]
  },
  {
   "cell_type": "code",
   "execution_count": 23,
   "id": "af3c553f",
   "metadata": {},
   "outputs": [],
   "source": [
    "#Reading test images from the normal and stone folders\n",
    "test_normal = read_images('CT_images/Test/Normal')\n",
    "test_stone = read_images('CT_images/Test/Stone')"
   ]
  },
  {
   "cell_type": "code",
   "execution_count": 24,
   "id": "43387cb3",
   "metadata": {},
   "outputs": [],
   "source": [
    "#Creating a list of labels for testing \n",
    "test_labels = ['Normal' for item in test_normal] + ['Stone' for item in test_stone]"
   ]
  },
  {
   "cell_type": "code",
   "execution_count": 25,
   "id": "ce51341c",
   "metadata": {},
   "outputs": [],
   "source": [
    "#Creating a Feature Vector for Test Set\n",
    "test_feature_list_normal = extract_features(test_normal)\n",
    "test_feature_list_stone = extract_features(test_stone)"
   ]
  },
  {
   "cell_type": "code",
   "execution_count": 26,
   "id": "ce8f22da",
   "metadata": {},
   "outputs": [
    {
     "name": "stdout",
     "output_type": "stream",
     "text": [
      "600\n",
      "300\n"
     ]
    }
   ],
   "source": [
    "print(len(test_feature_list_normal))\n",
    "print(len(test_feature_list_stone))"
   ]
  },
  {
   "cell_type": "code",
   "execution_count": 27,
   "id": "13fe4306",
   "metadata": {},
   "outputs": [],
   "source": [
    "#Combining the features for both classes\n",
    "test_features = test_feature_list_normal + test_feature_list_stone"
   ]
  },
  {
   "cell_type": "code",
   "execution_count": 28,
   "id": "e9bd6770",
   "metadata": {},
   "outputs": [],
   "source": [
    "#Splitting the data into train and valid sets\n",
    "X_train, X_valid, y_train, y_valid = train_test_split(features, labels, test_size=0.2, random_state=0)"
   ]
  },
  {
   "cell_type": "code",
   "execution_count": 29,
   "id": "b863d8d7",
   "metadata": {},
   "outputs": [
    {
     "name": "stdout",
     "output_type": "stream",
     "text": [
      "(2400,)\n",
      "(2400,)\n",
      "(2400,)\n"
     ]
    }
   ],
   "source": [
    "# Print the shape of the first element in the X_train array\n",
    "print(X_train[0].shape)\n",
    "\n",
    "# Print the shape of the second element in the X_train array\n",
    "print(X_train[1].shape)\n",
    "\n",
    "# Print the shape of the last element in the X_train array\n",
    "print(X_train[-1].shape)"
   ]
  },
  {
   "cell_type": "code",
   "execution_count": 30,
   "id": "de1212b8",
   "metadata": {},
   "outputs": [
    {
     "data": {
      "text/plain": [
       "SVC(C=1, gamma='auto')"
      ]
     },
     "execution_count": 30,
     "metadata": {},
     "output_type": "execute_result"
    }
   ],
   "source": [
    "# Training a SVM Model\n",
    "svc = SVC(kernel='rbf', C=1, gamma='auto')\n",
    "svc.fit(X_train, y_train)"
   ]
  },
  {
   "cell_type": "code",
   "execution_count": 31,
   "id": "1465f7b8",
   "metadata": {},
   "outputs": [],
   "source": [
    "# Predicting the Test Set\n",
    "y_pred = svc.predict(X_valid)"
   ]
  },
  {
   "cell_type": "code",
   "execution_count": 32,
   "id": "bbbf0973",
   "metadata": {},
   "outputs": [
    {
     "name": "stdout",
     "output_type": "stream",
     "text": [
      "Accuracy :  0.7966666666666666\n"
     ]
    }
   ],
   "source": [
    "#Calculating the accuracy\n",
    "accuracy = accuracy_score(y_valid, y_pred)\n",
    "print(\"Accuracy : \", accuracy)"
   ]
  },
  {
   "cell_type": "code",
   "execution_count": 34,
   "id": "3ee1a7f8",
   "metadata": {},
   "outputs": [
    {
     "data": {
      "text/plain": [
       "['svc.pkl']"
      ]
     },
     "execution_count": 34,
     "metadata": {},
     "output_type": "execute_result"
    }
   ],
   "source": [
    "import sklearn.externals\n",
    "import joblib\n",
    "\n",
    "# Save the model to a file\n",
    "joblib.dump(svc, 'svc.pkl')"
   ]
  },
  {
   "cell_type": "code",
   "execution_count": 5,
   "id": "bd0483c2",
   "metadata": {},
   "outputs": [],
   "source": [
    "import sklearn.externals\n",
    "import joblib\n",
    "svm_load = joblib.load(\"svc.pkl\") "
   ]
  },
  {
   "cell_type": "code",
   "execution_count": null,
   "id": "b0c4f197",
   "metadata": {},
   "outputs": [],
   "source": []
  }
 ],
 "metadata": {
  "kernelspec": {
   "display_name": "Python 3 (ipykernel)",
   "language": "python",
   "name": "python3"
  },
  "language_info": {
   "codemirror_mode": {
    "name": "ipython",
    "version": 3
   },
   "file_extension": ".py",
   "mimetype": "text/x-python",
   "name": "python",
   "nbconvert_exporter": "python",
   "pygments_lexer": "ipython3",
   "version": "3.9.12"
  }
 },
 "nbformat": 4,
 "nbformat_minor": 5
}
